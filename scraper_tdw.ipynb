{
  "nbformat": 4,
  "nbformat_minor": 0,
  "metadata": {
    "colab": {
      "name": "scraper_tdw.ipynb",
      "provenance": [],
      "collapsed_sections": [],
      "mount_file_id": "1JqSXymFPPhSMeL60ui4sUerqcFhR4Dnt",
      "authorship_tag": "ABX9TyP27D1NHjHDsoZYsdb94Dt6",
      "include_colab_link": true
    },
    "kernelspec": {
      "name": "python3",
      "display_name": "Python 3"
    }
  },
  "cells": [
    {
      "cell_type": "markdown",
      "metadata": {
        "id": "view-in-github",
        "colab_type": "text"
      },
      "source": [
        "<a href=\"https://colab.research.google.com/github/dobrysoft/dw_3City/blob/master/scraper_tdw.ipynb\" target=\"_parent\"><img src=\"https://colab.research.google.com/assets/colab-badge.svg\" alt=\"Open In Colab\"/></a>"
      ]
    },
    {
      "cell_type": "code",
      "metadata": {
        "id": "xIZyareskdp-",
        "colab_type": "code",
        "outputId": "7159b009-161b-4bc7-9518-8bef0393c443",
        "colab": {
          "base_uri": "https://localhost:8080/",
          "height": 35
        }
      },
      "source": [
        "cd \"/content/drive/My Drive/Colab Notebooks/python-simple-web-scraping\""
      ],
      "execution_count": 0,
      "outputs": [
        {
          "output_type": "stream",
          "text": [
            "/content/drive/My Drive/Colab Notebooks/python-simple-web-scraping\n"
          ],
          "name": "stdout"
        }
      ]
    },
    {
      "cell_type": "code",
      "metadata": {
        "id": "55EiS3UElUXi",
        "colab_type": "code",
        "outputId": "0d3f0122-d5f3-4782-9bc6-15bc40f8188d",
        "colab": {
          "base_uri": "https://localhost:8080/",
          "height": 35
        }
      },
      "source": [
        "ls"
      ],
      "execution_count": 0,
      "outputs": [
        {
          "output_type": "stream",
          "text": [
            "README.md  requirements.txt  scraper.py\n"
          ],
          "name": "stdout"
        }
      ]
    },
    {
      "cell_type": "code",
      "metadata": {
        "id": "6boE8PdPnlMe",
        "colab_type": "code",
        "outputId": "8f335ed8-b2bc-4544-e00b-ba79e68328b4",
        "colab": {
          "base_uri": "https://localhost:8080/",
          "height": 199
        }
      },
      "source": [
        "!pip install -r requirements.txt"
      ],
      "execution_count": 0,
      "outputs": [
        {
          "output_type": "stream",
          "text": [
            "Requirement already satisfied: beautifulsoup4==4.9.0 in /usr/local/lib/python3.6/dist-packages (from -r requirements.txt (line 1)) (4.9.0)\n",
            "Requirement already satisfied: certifi==2020.4.5.1 in /usr/local/lib/python3.6/dist-packages (from -r requirements.txt (line 2)) (2020.4.5.1)\n",
            "Requirement already satisfied: chardet==3.0.4 in /usr/local/lib/python3.6/dist-packages (from -r requirements.txt (line 3)) (3.0.4)\n",
            "Requirement already satisfied: idna==2.9 in /usr/local/lib/python3.6/dist-packages (from -r requirements.txt (line 4)) (2.9)\n",
            "Requirement already satisfied: python-slugify==4.0.0 in /usr/local/lib/python3.6/dist-packages (from -r requirements.txt (line 5)) (4.0.0)\n",
            "Requirement already satisfied: requests==2.23.0 in /usr/local/lib/python3.6/dist-packages (from -r requirements.txt (line 6)) (2.23.0)\n",
            "Requirement already satisfied: soupsieve==2.0 in /usr/local/lib/python3.6/dist-packages (from -r requirements.txt (line 7)) (2.0)\n",
            "Requirement already satisfied: text-unidecode==1.3 in /usr/local/lib/python3.6/dist-packages (from -r requirements.txt (line 8)) (1.3)\n",
            "Requirement already satisfied: urllib3==1.25.8 in /usr/local/lib/python3.6/dist-packages (from -r requirements.txt (line 9)) (1.25.8)\n"
          ],
          "name": "stdout"
        }
      ]
    },
    {
      "cell_type": "code",
      "metadata": {
        "id": "Qg5r2ExwntyS",
        "colab_type": "code",
        "outputId": "8c633f23-859f-4a55-842e-41b4566fcdb5",
        "colab": {
          "base_uri": "https://localhost:8080/",
          "height": 35
        }
      },
      "source": [
        "ls"
      ],
      "execution_count": 0,
      "outputs": [
        {
          "output_type": "stream",
          "text": [
            "README.md  requirements.txt  scraper.py\n"
          ],
          "name": "stdout"
        }
      ]
    },
    {
      "cell_type": "code",
      "metadata": {
        "id": "Ht2xZlySoWCt",
        "colab_type": "code",
        "outputId": "3f74de8e-5d76-4370-dbc7-3106f14567b0",
        "colab": {
          "base_uri": "https://localhost:8080/",
          "height": 217
        }
      },
      "source": [
        "!python scraper.py"
      ],
      "execution_count": 0,
      "outputs": [
        {
          "output_type": "stream",
          "text": [
            "Total number of pages: 288\n",
            "Page 1/288 processing...\n",
            "{'nazwa': 'Havlove - 66.26 m2', 'tresc': 'Osiedle Havlove to inwestycja, oferująca przestrzeń przyjazną rodzinie, w doskonale skomunikowanej dzielnicy Gdańsk Chełm. To idealne rozwiązanie dla osób, które lubią mieć wszystko w zasięgu ręki.\\nczytaj więcej', 'cena': 579642.5, 'liczba-pokoi': '3', 'pietro': '3', 'rok-budowy': '2021', 'rodzaj-nieruchomosci': 'Mieszkanie', 'termin-wydania': '30-08-2021', 'nr-oferty': '2437', 'liczba-pieter-w-budynku': '4', 'powierzchnia': '66,26'}\n",
            "{'nazwa': 'APARTAMENTY JAŚKOWA DOLINA 73 - A26W', 'tresc': 'Mamy przyjemność zaprezentować Państwu naszą nową inwestycję usytuowaną w prestiżowym rejonie Wrzeszcza, w bezpośrednim sąsiedztwie Trójmiejskiego Parku Krajobrazowego przy najbardziej znanej ulicy Wrzeszcza – Jaśkowa Dolina.W budynku zaprojektowano lokale mieszkalne i apartamenty o powierzchni od 25 m² do 84 m² (możliwość większej powierzchni powstałej z połączenia sąsiednich mieszkań) o wysokim standardzie, ciekawym układzie architektonicznym, z możliwością swobodnej aranżacji. Budynek będzie wyposażony w cichobieżne windy oraz garaż podziemny z miejscami postojowymi.Usytuowanie inwestycji w tak dogodnej lokalizacji umożliwia szybki i łatwy dostęp do komunikacji miejskiej oraz dojazd do Portu Lotniczego im. Lecha Wałęsy w Rębiechowie a także do stacji Pomorskiej Kolei Metropolitarnej oraz wielu ważnych miejsc na mapie Trójmiasta. Ponadto w pobliżu znajdują się znane uczelnie Politechnika Gdańska, Gdański Uniwersytet Medyczny a także przedszkola i żłobki.Bliskość Potoku Jaśkowego, sąsiedztwo Trójmiejskiego Parku Krajobrazowego zapewnia możliwość mieszkania w niepowtarzalnym miejscu.\\nczytaj więcej', 'cena': 369315.0, 'liczba-pokoi': '1', 'pietro': '4', 'rok-budowy': '2021', 'rodzaj-nieruchomosci': 'Mieszkanie', 'termin-wydania': 'I kwartał 2021', 'liczba-pieter-w-budynku': '4', 'powierzchnia': '25,47', 'typ-ogrzewania': 'Co'}\n",
            "{'nazwa': 'Mieszkanie C26 Osiedle Angielska Grobla 90.00m2', 'tresc': 'Angielska Grobla to wyjątkowe osiedle, które powstaje w jednej z najbardziej prestiżowych lokalizacji - w Śródmieściu Gdańska, w niewielkiej odległości od Starego Miasta. W ciągu kilku minut można dotrzeć stąd spacerem do Filharmonii Bałtyckiej, gdańskiej mariny, na ulicę Długą albo w okolice Żurawia.\\rPołożenie apartamentów gwarantuje łatwość poruszania się po trójmiejskiej aglomeracji. Prosty, krótki dojazd do głównych węzłów komunikacyjnych ułatwia szybkie dotarcie do centrów biznesu, lotniska, czy Sopotu.\\rOsiedle będzie składać się z 3 budynków, obecnie w budowie jest budynek drugi. Termin oddania to II kwartał 2019 roku.\\nczytaj więcej', 'cena': 890428.0, 'liczba-pokoi': '4', 'pietro': '5', 'rok-budowy': '2021', 'rodzaj-nieruchomosci': 'Mieszkanie', 'termin-wydania': '31-12-2021', 'powierzchnia': '90', 'typ-ogrzewania': 'Centralne'}\n",
            "{'nazwa': 'INPRO S.A - NOWOŚĆ!! - OPTIMA - mieszkanie 2-pok. 43.26 m²', 'tresc': 'Osiedle zlokalizowane jest przy ulicy Stężyckiej w Gdańsku Jasieniu. W sprzedaży ostatnie mieszkania\\rzlokalizowane nieopodal wjazdu na trójmiejską obwodnicę, dzięki czemu mieszkańcy dostaną się do centrum miasta w zaledwie 15 minut.\\nczytaj więcej', 'cena': 294341.04, 'liczba-pokoi': '2', 'pietro': '2', 'rok-budowy': '2021', 'rodzaj-nieruchomosci': 'Mieszkanie', 'termin-wydania': '30-09-2021', 'nr-oferty': 'Optima m. 2. 3. 3', 'liczba-pieter-w-budynku': '4', 'powierzchnia': '43,26'}\n",
            "{'nazwa': 'Park Emilii B1.4.2', 'tresc': 'Dwa niewielkie i eleganckie budynki wtopione w zielone otoczenie to znak rozpoznawczy Osiedla Park Emilii. Klasyczna architektura z nowoczesnymi elementami tworzy przestrzeń przyjazną zarówno dla rodzin z dziećmi, jak i osób na każdym etapie życia.Obszar mieszkalny otula zaaranżowana oraz istniejąca zieleń z placem zabaw i ścieżkami spacerowymi. Ta kameralna enklawa powstała po to, aby umilać Państwu codzienność.Łatwo tu zregenerować siły spacerując po malowniczym Parku Oruńskim, który zalicza się do najpiękniejszych parków historycznych w Polsce. Z terenu inwestycji rozciąga się rozległy widok na Żuławy Wiślane, których krajobraz wypełnia bujna roślinność, cieki wodne i charakterystyczne wiatraki.\\nczytaj więcej', 'cena': 452200.0, 'liczba-pokoi': '3', 'pietro': '4', 'rodzaj-nieruchomosci': 'Mieszkanie', 'liczba-pieter-w-budynku': '4', 'powierzchnia': '60,05', 'typ-ogrzewania': 'Miejskie'}\n",
            "{'nazwa': 'Działka 700m od morza', 'tresc': 'Zapraszam do zakupu działki przeznaczenej pod zabudowę jednorodzinną. Lokalizacja: Gdańsk Świbno - Wyspa Sobieszewska. Działka o pow. 863 m2ZALETY NIERUCHOMOŚCI:- 700 m od plaży- w sąsiedztwie lasu- w otoczeniu domków jednorodzinnych- dużo sąsiadów korzysta już z pomp ciepła- cicha i spokojna okolica- przy\\xa0działce dostępne wszelkie media.ZALETY OKOLICY:- w najbliższej okolicy szkoła, przedszkole, place zabaw, sklepy- blisko atrakcji turystycznych: rezerwatu przyrody Ptasi Raj, stanicy wodnej w Wiślince, portu w Świbnie, przeprawy promem na Mierzeję Wiślaną- w sezonie popularne miejsce turystyczne.KOMUNIKACJA:- dobry dojazd do centrum Gdańska (bez stania w korku)- szybki dojazd na obwodnicę Trójmiasta, drogę ekspresową S7, autostradę A1- blisko przystanek autobusowy linii 112 (dojeżdża do Dworca Głównego).W krótkim okresie słup elektryczny zostanie usunięty (jest już zaakceptowany projekt).Teren objęty miejscowym planem zagospodarowania przestrzennego nr 2402 (mieszkalnictwo z usługami).\\xa0Kupujący nie płaci prowizji.Nie czekaj z kontaktem w sprawie tej nieruchomości -\\xa0zadzwoń do mnie lub wyślij mi wiadomość poprzez formularz\\xa0kontaktowy, udzielę Ci odpowiedzi na wszelkie pytania dotyczącetej nieruchomości i będziemy mogli umówić się na prezentację.Drodzy Klienci,W związku z zaistniałą sytuacją dotyczącą rozprzestrzeniania się koronawirusa tymczasowo zamknęliśmy nasze biuro. Jednak dalej pracujemy, aby zapewnić Wam obsługę ofert. Nasze telefony, maile, facebook są gotowe, by odpowiedzieć na wszystkie Państwa pytania. Jeżeli chcecie porozmawiać w drodze telekonferencji, zapraszamy do tej formy kontaktu. Postarajmy się wykorzystać ten czas jak najlepiej. Zdrowie jest najważniejsze - Wasze, nasze i Bliskich. Dlatego wszystkim życzymy dużo zdrowia i spokoju!Zespół Home AssetPowyższa oferta nie stanowi oferty handlowej w rozumieniu art. 66 § 1 kodeksu cywilnego oraz innych właściwych przepisów prawnych. Informacje umieszczone w ofertach przekazywane są przez właścicieli nieruchomości i mogą ulegać zmianom. Staramy się aby wszystkie oferty były jak najbardziej aktualne i odpowiadały stanowi rzeczywistemu.Jesteśmy wyłącznym właścicielem zamieszczonych zdjęć i opisów. Kopiowanie ich w całości lub fragmentach jest zabronione zgodnie z ustawą z dnia 4 lutego 1994 r. o prawie autorskim i prawach pokrewnych.\\nczytaj więcej', 'cena': 345000.0, 'rodzaj-nieruchomosci': 'Działka pod budowę', 'nr-oferty': 'Hs993154', 'powierzchnia': '863', 'powierzchnia-dzialki': '863'}\n",
            "Traceback (most recent call last):\n",
            "\n"
          ],
          "name": "stdout"
        }
      ]
    },
    {
      "cell_type": "code",
      "metadata": {
        "id": "N5HsQBqp2X_s",
        "colab_type": "code",
        "outputId": "bdc325b8-69e8-4f2a-f453-36bc10850b6d",
        "colab": {
          "base_uri": "https://localhost:8080/",
          "height": 35
        }
      },
      "source": [
        "!pwd"
      ],
      "execution_count": 8,
      "outputs": [
        {
          "output_type": "stream",
          "text": [
            "/content/drive/My Drive/Colab Notebooks/dw_3City\n"
          ],
          "name": "stdout"
        }
      ]
    },
    {
      "cell_type": "code",
      "metadata": {
        "id": "54X6CYTNIN7x",
        "colab_type": "code",
        "outputId": "804e2516-d11f-4171-924d-5e0606a849b8",
        "colab": {
          "base_uri": "https://localhost:8080/",
          "height": 35
        }
      },
      "source": [
        "ls"
      ],
      "execution_count": 9,
      "outputs": [
        {
          "output_type": "stream",
          "text": [
            "\u001b[0m\u001b[01;34mpython-simple-web-scraping\u001b[0m/  README.md  scraper_tdw.ipynb\n"
          ],
          "name": "stdout"
        }
      ]
    },
    {
      "cell_type": "code",
      "metadata": {
        "id": "ccVPOWlfIlcP",
        "colab_type": "code",
        "outputId": "2720545d-8d7b-4e53-de23-34e269802762",
        "colab": {
          "base_uri": "https://localhost:8080/",
          "height": 125
        }
      },
      "source": [
        "ls"
      ],
      "execution_count": 0,
      "outputs": [
        {
          "output_type": "stream",
          "text": [
            "'Copy of Untitled'    m3_day4.ipynb       Untitled10.ipynb   Untitled4.ipynb\n",
            " day1_meta.ipynb      m3_day5.ipynb       Untitled1.ipynb    Untitled5.ipynb\n",
            " \u001b[0m\u001b[01;34mdw_3City\u001b[0m/            scraper_tdw.ipynb  'Untitled (2)'      Untitled6.ipynb\n",
            " \u001b[01;34mdw_matrix\u001b[0m/           Untitled            Untitled2.ipynb    Untitled7.ipynb\n",
            " m3_day1              Untitled0.ipynb    'Untitled (3)'      Untitled8.ipynb\n",
            "'m3_day4 (1).ipynb'  'Untitled (1)'       Untitled3.ipynb    Untitled9.ipynb\n"
          ],
          "name": "stdout"
        }
      ]
    },
    {
      "cell_type": "code",
      "metadata": {
        "id": "J6UjtbAUJifR",
        "colab_type": "code",
        "outputId": "dfa36d48-eb26-4562-a7ef-2f53de3169fd",
        "colab": {
          "base_uri": "https://localhost:8080/",
          "height": 125
        }
      },
      "source": [
        "!git clone $GITHUB_URL"
      ],
      "execution_count": 14,
      "outputs": [
        {
          "output_type": "stream",
          "text": [
            "Cloning into 'dw_3City'...\n",
            "remote: Enumerating objects: 11, done.\u001b[K\n",
            "remote: Counting objects:   9% (1/11)\u001b[K\rremote: Counting objects:  18% (2/11)\u001b[K\rremote: Counting objects:  27% (3/11)\u001b[K\rremote: Counting objects:  36% (4/11)\u001b[K\rremote: Counting objects:  45% (5/11)\u001b[K\rremote: Counting objects:  54% (6/11)\u001b[K\rremote: Counting objects:  63% (7/11)\u001b[K\rremote: Counting objects:  72% (8/11)\u001b[K\rremote: Counting objects:  81% (9/11)\u001b[K\rremote: Counting objects:  90% (10/11)\u001b[K\rremote: Counting objects: 100% (11/11)\u001b[K\rremote: Counting objects: 100% (11/11), done.\u001b[K\n",
            "remote: Compressing objects:  11% (1/9)\u001b[K\rremote: Compressing objects:  22% (2/9)\u001b[K\rremote: Compressing objects:  33% (3/9)\u001b[K\rremote: Compressing objects:  44% (4/9)\u001b[K\rremote: Compressing objects:  55% (5/9)\u001b[K\rremote: Compressing objects:  66% (6/9)\u001b[K\rremote: Compressing objects:  77% (7/9)\u001b[K\rremote: Compressing objects:  88% (8/9)\u001b[K\rremote: Compressing objects: 100% (9/9)\u001b[K\rremote: Compressing objects: 100% (9/9), done.\u001b[K\n",
            "remote: Total 11 (delta 3), reused 0 (delta 0), pack-reused 0\u001b[K\n",
            "Unpacking objects:   9% (1/11)   \rUnpacking objects:  18% (2/11)   \rUnpacking objects:  27% (3/11)   \rUnpacking objects:  36% (4/11)   \rUnpacking objects:  45% (5/11)   \rUnpacking objects:  54% (6/11)   \rUnpacking objects:  63% (7/11)   \rUnpacking objects:  72% (8/11)   \rUnpacking objects:  81% (9/11)   \rUnpacking objects:  90% (10/11)   \rUnpacking objects: 100% (11/11)   \rUnpacking objects: 100% (11/11), done.\n"
          ],
          "name": "stdout"
        }
      ]
    },
    {
      "cell_type": "code",
      "metadata": {
        "id": "ZVhi4XbeJnoo",
        "colab_type": "code",
        "outputId": "47ec6d88-0698-4536-a6fc-f138fbc487e4",
        "colab": {
          "base_uri": "https://localhost:8080/",
          "height": 179
        }
      },
      "source": [
        "ls"
      ],
      "execution_count": 0,
      "outputs": [
        {
          "output_type": "stream",
          "text": [
            "'Copy of Untitled'             scraper_tdw.ipynb  'Untitled (4)'\n",
            " day1_meta.ipynb               Untitled0.ipynb     Untitled4.ipynb\n",
            " \u001b[0m\u001b[01;34mdw_3City\u001b[0m/                    'Untitled (1)'       Untitled5.ipynb\n",
            " \u001b[01;34mdw_matrix\u001b[0m/                    Untitled10.ipynb    Untitled6.ipynb\n",
            " m3_day1                       Untitled1.ipynb     Untitled7.ipynb\n",
            "'m3_day4 (1).ipynb'           'Untitled (2)'       Untitled8.ipynb\n",
            " m3_day4.ipynb                 Untitled2.ipynb     Untitled9.ipynb\n",
            " m3_day5.ipynb                'Untitled (3)'\n",
            " \u001b[01;34mpython-simple-web-scraping\u001b[0m/   Untitled3.ipynb\n"
          ],
          "name": "stdout"
        }
      ]
    },
    {
      "cell_type": "code",
      "metadata": {
        "id": "0qpSvEf3Kf_Y",
        "colab_type": "code",
        "outputId": "f8c9a433-2768-4be4-c527-22632b3fc94a",
        "colab": {
          "base_uri": "https://localhost:8080/",
          "height": 35
        }
      },
      "source": [
        "cd \"/content/drive/My Drive/Colab Notebooks/dw_3City\""
      ],
      "execution_count": 0,
      "outputs": [
        {
          "output_type": "stream",
          "text": [
            "/content/drive/My Drive/Colab Notebooks/dw_3City\n"
          ],
          "name": "stdout"
        }
      ]
    },
    {
      "cell_type": "code",
      "metadata": {
        "id": "M6ZPOd5eLPZG",
        "colab_type": "code",
        "colab": {}
      },
      "source": [
        "!git config --global user.email \"marek@dobrysoft.net\""
      ],
      "execution_count": 0,
      "outputs": []
    },
    {
      "cell_type": "code",
      "metadata": {
        "id": "yY4Q206OM-4m",
        "colab_type": "code",
        "colab": {}
      },
      "source": [
        "!git add python-simple-web-scraping"
      ],
      "execution_count": 0,
      "outputs": []
    },
    {
      "cell_type": "code",
      "metadata": {
        "id": "ylGKZf2ZJtOq",
        "colab_type": "code",
        "outputId": "76d6d971-bdf8-48d4-cb04-527d080d124b",
        "colab": {
          "base_uri": "https://localhost:8080/",
          "height": 35
        }
      },
      "source": [
        "!git push -u origin master"
      ],
      "execution_count": 19,
      "outputs": [
        {
          "output_type": "stream",
          "text": [
            "fatal: could not read Username for 'https://github.com': No such device or address\n"
          ],
          "name": "stdout"
        }
      ]
    },
    {
      "cell_type": "code",
      "metadata": {
        "id": "oiy4wcLIKX2g",
        "colab_type": "code",
        "colab": {}
      },
      "source": [
        ""
      ],
      "execution_count": 0,
      "outputs": []
    }
  ]
}