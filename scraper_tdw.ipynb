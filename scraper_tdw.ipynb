{
  "nbformat": 4,
  "nbformat_minor": 0,
  "metadata": {
    "colab": {
      "name": "scraper_tdw.ipynb",
      "provenance": [],
      "collapsed_sections": [],
      "mount_file_id": "1JqSXymFPPhSMeL60ui4sUerqcFhR4Dnt",
      "authorship_tag": "ABX9TyMnOIC8cyi6NqTVnor+ATWa",
      "include_colab_link": true
    },
    "kernelspec": {
      "name": "python3",
      "display_name": "Python 3"
    }
  },
  "cells": [
    {
      "cell_type": "markdown",
      "metadata": {
        "id": "view-in-github",
        "colab_type": "text"
      },
      "source": [
        "<a href=\"https://colab.research.google.com/github/dobrysoft/dw_3City/blob/master/scraper_tdw.ipynb\" target=\"_parent\"><img src=\"https://colab.research.google.com/assets/colab-badge.svg\" alt=\"Open In Colab\"/></a>"
      ]
    },
    {
      "cell_type": "code",
      "metadata": {
        "id": "xIZyareskdp-",
        "colab_type": "code",
        "colab": {
          "base_uri": "https://localhost:8080/",
          "height": 35
        },
        "outputId": "7159b009-161b-4bc7-9518-8bef0393c443"
      },
      "source": [
        "cd \"/content/drive/My Drive/Colab Notebooks/python-simple-web-scraping\""
      ],
      "execution_count": 2,
      "outputs": [
        {
          "output_type": "stream",
          "text": [
            "/content/drive/My Drive/Colab Notebooks/python-simple-web-scraping\n"
          ],
          "name": "stdout"
        }
      ]
    },
    {
      "cell_type": "code",
      "metadata": {
        "id": "55EiS3UElUXi",
        "colab_type": "code",
        "colab": {
          "base_uri": "https://localhost:8080/",
          "height": 35
        },
        "outputId": "0d3f0122-d5f3-4782-9bc6-15bc40f8188d"
      },
      "source": [
        "ls"
      ],
      "execution_count": 3,
      "outputs": [
        {
          "output_type": "stream",
          "text": [
            "README.md  requirements.txt  scraper.py\n"
          ],
          "name": "stdout"
        }
      ]
    },
    {
      "cell_type": "code",
      "metadata": {
        "id": "6boE8PdPnlMe",
        "colab_type": "code",
        "colab": {
          "base_uri": "https://localhost:8080/",
          "height": 199
        },
        "outputId": "8f335ed8-b2bc-4544-e00b-ba79e68328b4"
      },
      "source": [
        "!pip install -r requirements.txt"
      ],
      "execution_count": 4,
      "outputs": [
        {
          "output_type": "stream",
          "text": [
            "Requirement already satisfied: beautifulsoup4==4.9.0 in /usr/local/lib/python3.6/dist-packages (from -r requirements.txt (line 1)) (4.9.0)\n",
            "Requirement already satisfied: certifi==2020.4.5.1 in /usr/local/lib/python3.6/dist-packages (from -r requirements.txt (line 2)) (2020.4.5.1)\n",
            "Requirement already satisfied: chardet==3.0.4 in /usr/local/lib/python3.6/dist-packages (from -r requirements.txt (line 3)) (3.0.4)\n",
            "Requirement already satisfied: idna==2.9 in /usr/local/lib/python3.6/dist-packages (from -r requirements.txt (line 4)) (2.9)\n",
            "Requirement already satisfied: python-slugify==4.0.0 in /usr/local/lib/python3.6/dist-packages (from -r requirements.txt (line 5)) (4.0.0)\n",
            "Requirement already satisfied: requests==2.23.0 in /usr/local/lib/python3.6/dist-packages (from -r requirements.txt (line 6)) (2.23.0)\n",
            "Requirement already satisfied: soupsieve==2.0 in /usr/local/lib/python3.6/dist-packages (from -r requirements.txt (line 7)) (2.0)\n",
            "Requirement already satisfied: text-unidecode==1.3 in /usr/local/lib/python3.6/dist-packages (from -r requirements.txt (line 8)) (1.3)\n",
            "Requirement already satisfied: urllib3==1.25.8 in /usr/local/lib/python3.6/dist-packages (from -r requirements.txt (line 9)) (1.25.8)\n"
          ],
          "name": "stdout"
        }
      ]
    },
    {
      "cell_type": "code",
      "metadata": {
        "id": "Qg5r2ExwntyS",
        "colab_type": "code",
        "colab": {
          "base_uri": "https://localhost:8080/",
          "height": 35
        },
        "outputId": "8c633f23-859f-4a55-842e-41b4566fcdb5"
      },
      "source": [
        "ls"
      ],
      "execution_count": 7,
      "outputs": [
        {
          "output_type": "stream",
          "text": [
            "README.md  requirements.txt  scraper.py\n"
          ],
          "name": "stdout"
        }
      ]
    },
    {
      "cell_type": "code",
      "metadata": {
        "id": "Ht2xZlySoWCt",
        "colab_type": "code",
        "colab": {
          "base_uri": "https://localhost:8080/",
          "height": 217
        },
        "outputId": "3f74de8e-5d76-4370-dbc7-3106f14567b0"
      },
      "source": [
        "!python scraper.py"
      ],
      "execution_count": 14,
      "outputs": [
        {
          "output_type": "stream",
          "text": [
            "Total number of pages: 288\n",
            "Page 1/288 processing...\n",
            "{'nazwa': 'Havlove - 66.26 m2', 'tresc': 'Osiedle Havlove to inwestycja, oferująca przestrzeń przyjazną rodzinie, w doskonale skomunikowanej dzielnicy Gdańsk Chełm. To idealne rozwiązanie dla osób, które lubią mieć wszystko w zasięgu ręki.\\nczytaj więcej', 'cena': 579642.5, 'liczba-pokoi': '3', 'pietro': '3', 'rok-budowy': '2021', 'rodzaj-nieruchomosci': 'Mieszkanie', 'termin-wydania': '30-08-2021', 'nr-oferty': '2437', 'liczba-pieter-w-budynku': '4', 'powierzchnia': '66,26'}\n",
            "{'nazwa': 'APARTAMENTY JAŚKOWA DOLINA 73 - A26W', 'tresc': 'Mamy przyjemność zaprezentować Państwu naszą nową inwestycję usytuowaną w prestiżowym rejonie Wrzeszcza, w bezpośrednim sąsiedztwie Trójmiejskiego Parku Krajobrazowego przy najbardziej znanej ulicy Wrzeszcza – Jaśkowa Dolina.W budynku zaprojektowano lokale mieszkalne i apartamenty o powierzchni od 25 m² do 84 m² (możliwość większej powierzchni powstałej z połączenia sąsiednich mieszkań) o wysokim standardzie, ciekawym układzie architektonicznym, z możliwością swobodnej aranżacji. Budynek będzie wyposażony w cichobieżne windy oraz garaż podziemny z miejscami postojowymi.Usytuowanie inwestycji w tak dogodnej lokalizacji umożliwia szybki i łatwy dostęp do komunikacji miejskiej oraz dojazd do Portu Lotniczego im. Lecha Wałęsy w Rębiechowie a także do stacji Pomorskiej Kolei Metropolitarnej oraz wielu ważnych miejsc na mapie Trójmiasta. Ponadto w pobliżu znajdują się znane uczelnie Politechnika Gdańska, Gdański Uniwersytet Medyczny a także przedszkola i żłobki.Bliskość Potoku Jaśkowego, sąsiedztwo Trójmiejskiego Parku Krajobrazowego zapewnia możliwość mieszkania w niepowtarzalnym miejscu.\\nczytaj więcej', 'cena': 369315.0, 'liczba-pokoi': '1', 'pietro': '4', 'rok-budowy': '2021', 'rodzaj-nieruchomosci': 'Mieszkanie', 'termin-wydania': 'I kwartał 2021', 'liczba-pieter-w-budynku': '4', 'powierzchnia': '25,47', 'typ-ogrzewania': 'Co'}\n",
            "{'nazwa': 'Mieszkanie C26 Osiedle Angielska Grobla 90.00m2', 'tresc': 'Angielska Grobla to wyjątkowe osiedle, które powstaje w jednej z najbardziej prestiżowych lokalizacji - w Śródmieściu Gdańska, w niewielkiej odległości od Starego Miasta. W ciągu kilku minut można dotrzeć stąd spacerem do Filharmonii Bałtyckiej, gdańskiej mariny, na ulicę Długą albo w okolice Żurawia.\\rPołożenie apartamentów gwarantuje łatwość poruszania się po trójmiejskiej aglomeracji. Prosty, krótki dojazd do głównych węzłów komunikacyjnych ułatwia szybkie dotarcie do centrów biznesu, lotniska, czy Sopotu.\\rOsiedle będzie składać się z 3 budynków, obecnie w budowie jest budynek drugi. Termin oddania to II kwartał 2019 roku.\\nczytaj więcej', 'cena': 890428.0, 'liczba-pokoi': '4', 'pietro': '5', 'rok-budowy': '2021', 'rodzaj-nieruchomosci': 'Mieszkanie', 'termin-wydania': '31-12-2021', 'powierzchnia': '90', 'typ-ogrzewania': 'Centralne'}\n",
            "{'nazwa': 'INPRO S.A - NOWOŚĆ!! - OPTIMA - mieszkanie 2-pok. 43.26 m²', 'tresc': 'Osiedle zlokalizowane jest przy ulicy Stężyckiej w Gdańsku Jasieniu. W sprzedaży ostatnie mieszkania\\rzlokalizowane nieopodal wjazdu na trójmiejską obwodnicę, dzięki czemu mieszkańcy dostaną się do centrum miasta w zaledwie 15 minut.\\nczytaj więcej', 'cena': 294341.04, 'liczba-pokoi': '2', 'pietro': '2', 'rok-budowy': '2021', 'rodzaj-nieruchomosci': 'Mieszkanie', 'termin-wydania': '30-09-2021', 'nr-oferty': 'Optima m. 2. 3. 3', 'liczba-pieter-w-budynku': '4', 'powierzchnia': '43,26'}\n",
            "{'nazwa': 'Park Emilii B1.4.2', 'tresc': 'Dwa niewielkie i eleganckie budynki wtopione w zielone otoczenie to znak rozpoznawczy Osiedla Park Emilii. Klasyczna architektura z nowoczesnymi elementami tworzy przestrzeń przyjazną zarówno dla rodzin z dziećmi, jak i osób na każdym etapie życia.Obszar mieszkalny otula zaaranżowana oraz istniejąca zieleń z placem zabaw i ścieżkami spacerowymi. Ta kameralna enklawa powstała po to, aby umilać Państwu codzienność.Łatwo tu zregenerować siły spacerując po malowniczym Parku Oruńskim, który zalicza się do najpiękniejszych parków historycznych w Polsce. Z terenu inwestycji rozciąga się rozległy widok na Żuławy Wiślane, których krajobraz wypełnia bujna roślinność, cieki wodne i charakterystyczne wiatraki.\\nczytaj więcej', 'cena': 452200.0, 'liczba-pokoi': '3', 'pietro': '4', 'rodzaj-nieruchomosci': 'Mieszkanie', 'liczba-pieter-w-budynku': '4', 'powierzchnia': '60,05', 'typ-ogrzewania': 'Miejskie'}\n",
            "{'nazwa': 'Działka 700m od morza', 'tresc': 'Zapraszam do zakupu działki przeznaczenej pod zabudowę jednorodzinną. Lokalizacja: Gdańsk Świbno - Wyspa Sobieszewska. Działka o pow. 863 m2ZALETY NIERUCHOMOŚCI:- 700 m od plaży- w sąsiedztwie lasu- w otoczeniu domków jednorodzinnych- dużo sąsiadów korzysta już z pomp ciepła- cicha i spokojna okolica- przy\\xa0działce dostępne wszelkie media.ZALETY OKOLICY:- w najbliższej okolicy szkoła, przedszkole, place zabaw, sklepy- blisko atrakcji turystycznych: rezerwatu przyrody Ptasi Raj, stanicy wodnej w Wiślince, portu w Świbnie, przeprawy promem na Mierzeję Wiślaną- w sezonie popularne miejsce turystyczne.KOMUNIKACJA:- dobry dojazd do centrum Gdańska (bez stania w korku)- szybki dojazd na obwodnicę Trójmiasta, drogę ekspresową S7, autostradę A1- blisko przystanek autobusowy linii 112 (dojeżdża do Dworca Głównego).W krótkim okresie słup elektryczny zostanie usunięty (jest już zaakceptowany projekt).Teren objęty miejscowym planem zagospodarowania przestrzennego nr 2402 (mieszkalnictwo z usługami).\\xa0Kupujący nie płaci prowizji.Nie czekaj z kontaktem w sprawie tej nieruchomości -\\xa0zadzwoń do mnie lub wyślij mi wiadomość poprzez formularz\\xa0kontaktowy, udzielę Ci odpowiedzi na wszelkie pytania dotyczącetej nieruchomości i będziemy mogli umówić się na prezentację.Drodzy Klienci,W związku z zaistniałą sytuacją dotyczącą rozprzestrzeniania się koronawirusa tymczasowo zamknęliśmy nasze biuro. Jednak dalej pracujemy, aby zapewnić Wam obsługę ofert. Nasze telefony, maile, facebook są gotowe, by odpowiedzieć na wszystkie Państwa pytania. Jeżeli chcecie porozmawiać w drodze telekonferencji, zapraszamy do tej formy kontaktu. Postarajmy się wykorzystać ten czas jak najlepiej. Zdrowie jest najważniejsze - Wasze, nasze i Bliskich. Dlatego wszystkim życzymy dużo zdrowia i spokoju!Zespół Home AssetPowyższa oferta nie stanowi oferty handlowej w rozumieniu art. 66 § 1 kodeksu cywilnego oraz innych właściwych przepisów prawnych. Informacje umieszczone w ofertach przekazywane są przez właścicieli nieruchomości i mogą ulegać zmianom. Staramy się aby wszystkie oferty były jak najbardziej aktualne i odpowiadały stanowi rzeczywistemu.Jesteśmy wyłącznym właścicielem zamieszczonych zdjęć i opisów. Kopiowanie ich w całości lub fragmentach jest zabronione zgodnie z ustawą z dnia 4 lutego 1994 r. o prawie autorskim i prawach pokrewnych.\\nczytaj więcej', 'cena': 345000.0, 'rodzaj-nieruchomosci': 'Działka pod budowę', 'nr-oferty': 'Hs993154', 'powierzchnia': '863', 'powierzchnia-dzialki': '863'}\n",
            "Traceback (most recent call last):\n",
            "\n"
          ],
          "name": "stdout"
        }
      ]
    },
    {
      "cell_type": "code",
      "metadata": {
        "id": "N5HsQBqp2X_s",
        "colab_type": "code",
        "colab": {}
      },
      "source": [
        ""
      ],
      "execution_count": 0,
      "outputs": []
    }
  ]
}